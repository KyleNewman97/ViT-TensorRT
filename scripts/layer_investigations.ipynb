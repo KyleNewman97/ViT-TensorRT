{
 "cells": [
  {
   "cell_type": "markdown",
   "metadata": {},
   "source": [
    "## Layer investigations\n",
    "This notebook investigates PyTorch layers in order to determine exactly how they work."
   ]
  },
  {
   "cell_type": "code",
   "execution_count": 3,
   "metadata": {},
   "outputs": [],
   "source": [
    "import torch\n",
    "from torch import nn\n",
    "import torchvision.transforms as transforms"
   ]
  },
  {
   "cell_type": "markdown",
   "metadata": {},
   "source": [
    "### LayerNorm"
   ]
  },
  {
   "cell_type": "code",
   "execution_count": 8,
   "metadata": {},
   "outputs": [],
   "source": [
    "# Define the input\n",
    "batch, sequence_length, embedding_dim = 4, 100, 10\n",
    "embedding = torch.randn(batch, sequence_length, embedding_dim)\n",
    "\n",
    "# Define the layer\n",
    "layer_norm = nn.LayerNorm(embedding_dim)"
   ]
  },
  {
   "cell_type": "code",
   "execution_count": null,
   "metadata": {},
   "outputs": [],
   "source": [
    "output: torch.Tensor = layer_norm(embedding)\n",
    "\n",
    "output.size()"
   ]
  },
  {
   "cell_type": "code",
   "execution_count": null,
   "metadata": {},
   "outputs": [],
   "source": [
    "# Find the mean and standard deviation of the input\n",
    "print(f\"Input mean: {embedding[0, 0].mean():.3f}\")\n",
    "print(f\"Input standard deviation: {embedding[0, 0].std():.3f}\")\n",
    "\n",
    "print(\"\\n\" + (\"*\" * 40) + \"\\n\")\n",
    "\n",
    "# Find the mean and standard deviation of the output\n",
    "print(f\"Output mean: {output[0, 0].mean():.3f}\")\n",
    "print(f\"Output standard deviation: {output[0, 0].std():.3f}\")"
   ]
  },
  {
   "cell_type": "markdown",
   "metadata": {},
   "source": [
    "Layer normalisation is applied over the last dimension of the input when using a 1\n",
    "dimensional input during its initialisation."
   ]
  },
  {
   "cell_type": "markdown",
   "metadata": {},
   "source": [
    "### Investigate transforms"
   ]
  },
  {
   "cell_type": "code",
   "execution_count": null,
   "metadata": {},
   "outputs": [],
   "source": [
    "transforms.Compose([transforms.Resize()])"
   ]
  },
  {
   "cell_type": "code",
   "execution_count": null,
   "metadata": {},
   "outputs": [],
   "source": []
  }
 ],
 "metadata": {
  "kernelspec": {
   "display_name": ".venv",
   "language": "python",
   "name": "python3"
  },
  "language_info": {
   "codemirror_mode": {
    "name": "ipython",
    "version": 3
   },
   "file_extension": ".py",
   "mimetype": "text/x-python",
   "name": "python",
   "nbconvert_exporter": "python",
   "pygments_lexer": "ipython3",
   "version": "3.11.6"
  }
 },
 "nbformat": 4,
 "nbformat_minor": 2
}
