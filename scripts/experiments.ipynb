{
 "cells": [
  {
   "cell_type": "code",
   "execution_count": 1,
   "metadata": {},
   "outputs": [],
   "source": [
    "import torch"
   ]
  },
  {
   "cell_type": "code",
   "execution_count": 12,
   "metadata": {},
   "outputs": [],
   "source": [
    "out = torch.nn.functional.softmax(torch.rand((8, 100,)), dim=1)"
   ]
  },
  {
   "cell_type": "code",
   "execution_count": 18,
   "metadata": {},
   "outputs": [],
   "source": [
    "clses = out.argmax(dim=1)"
   ]
  },
  {
   "cell_type": "code",
   "execution_count": null,
   "metadata": {},
   "outputs": [],
   "source": [
    "print((clses == clses).sum() / 8)"
   ]
  },
  {
   "cell_type": "code",
   "execution_count": 1,
   "metadata": {},
   "outputs": [],
   "source": [
    "import numpy as np\n",
    "from pathlib import Path\n",
    "from PIL import Image\n",
    "\n",
    "import shutil"
   ]
  },
  {
   "cell_type": "code",
   "execution_count": 2,
   "metadata": {},
   "outputs": [],
   "source": [
    "data_root = Path(\"/mnt/data/documents/code/ml-projects/ViT-TensorRT/datasets/dummy\")\n",
    "shutil.rmtree(data_root)"
   ]
  },
  {
   "cell_type": "code",
   "execution_count": 3,
   "metadata": {},
   "outputs": [],
   "source": [
    "train_dir = data_root / \"train\"\n",
    "valid_dir = data_root / \"valid\"\n",
    "\n",
    "train_image_dir = train_dir / \"images\"\n",
    "train_label_dir = train_dir / \"labels\"\n",
    "\n",
    "valid_image_dir = valid_dir / \"images\"\n",
    "valid_label_dir = valid_dir / \"labels\"\n",
    "\n",
    "train_image_dir.mkdir(exist_ok=True, parents=True)\n",
    "train_label_dir.mkdir(exist_ok=True, parents=True)\n",
    "\n",
    "valid_image_dir.mkdir(exist_ok=True, parents=True)\n",
    "valid_label_dir.mkdir(exist_ok=True, parents=True)"
   ]
  },
  {
   "cell_type": "code",
   "execution_count": 4,
   "metadata": {},
   "outputs": [],
   "source": [
    "# Make the training dataset\n",
    "for idx in range(100):\n",
    "    if idx % 3 == 0:\n",
    "        class_id = 0\n",
    "        im = np.zeros((320, 320, 3), dtype=np.uint8)\n",
    "    elif idx % 3 == 1:\n",
    "        class_id = 1\n",
    "        im = np.ones((320, 320, 3), dtype=np.uint8) * 127\n",
    "    else:\n",
    "        class_id = 2\n",
    "        im = np.ones((320, 320, 3), dtype=np.uint8) * 255\n",
    "\n",
    "    im = Image.fromarray(im)\n",
    "    im.save(train_image_dir / f\"{idx:04}.png\")\n",
    "    \n",
    "    with open(train_label_dir / f\"{idx:04}.txt\", \"w\") as fp:\n",
    "        fp.write(f\"{class_id}\")"
   ]
  },
  {
   "cell_type": "code",
   "execution_count": 5,
   "metadata": {},
   "outputs": [],
   "source": [
    "# Make the validation dataset\n",
    "for idx in range(100):\n",
    "    if idx % 3 == 0:\n",
    "        class_id = 0\n",
    "        im = np.zeros((320, 320, 3), dtype=np.uint8)\n",
    "    elif idx % 3 == 1:\n",
    "        class_id = 1\n",
    "        im = np.ones((320, 320, 3), dtype=np.uint8) * 127\n",
    "    else:\n",
    "        class_id = 2\n",
    "        im = np.ones((320, 320, 3), dtype=np.uint8) * 255\n",
    "\n",
    "    im = Image.fromarray(im)\n",
    "    im.save(valid_image_dir / f\"{idx:04}.png\")\n",
    "    \n",
    "    with open(valid_label_dir / f\"{idx:04}.txt\", \"w\") as fp:\n",
    "        fp.write(f\"{class_id}\")"
   ]
  },
  {
   "cell_type": "code",
   "execution_count": 7,
   "metadata": {},
   "outputs": [],
   "source": [
    "from torch.utils.tensorboard import SummaryWriter"
   ]
  },
  {
   "cell_type": "code",
   "execution_count": null,
   "metadata": {},
   "outputs": [],
   "source": []
  },
  {
   "cell_type": "code",
   "execution_count": 1,
   "metadata": {},
   "outputs": [],
   "source": [
    "from vit_tensorrt import ViT\n",
    "from vit_tensorrt.config import ViTConfig\n",
    "from pathlib import Path\n",
    "import torch"
   ]
  },
  {
   "cell_type": "code",
   "execution_count": null,
   "metadata": {},
   "outputs": [],
   "source": [
    "model = ViT()"
   ]
  },
  {
   "cell_type": "code",
   "execution_count": 3,
   "metadata": {},
   "outputs": [],
   "source": [
    "file = Path(\"/mnt/data/documents/code/ml-projects/ViT-TensorRT/model.pt\")\n",
    "model.save(file)"
   ]
  },
  {
   "cell_type": "code",
   "execution_count": null,
   "metadata": {},
   "outputs": [],
   "source": [
    "loaded_model = ViT.load(file)"
   ]
  },
  {
   "cell_type": "code",
   "execution_count": null,
   "metadata": {},
   "outputs": [],
   "source": [
    "loaded_model.config"
   ]
  },
  {
   "cell_type": "code",
   "execution_count": null,
   "metadata": {},
   "outputs": [],
   "source": []
  },
  {
   "cell_type": "markdown",
   "metadata": {},
   "source": [
    "### Cat dog classification"
   ]
  },
  {
   "cell_type": "code",
   "execution_count": 6,
   "metadata": {},
   "outputs": [],
   "source": [
    "import random\n",
    "from pathlib import Path"
   ]
  },
  {
   "cell_type": "markdown",
   "metadata": {},
   "source": [
    "Pre-process the data into the format required for ViT training"
   ]
  },
  {
   "cell_type": "code",
   "execution_count": 7,
   "metadata": {},
   "outputs": [],
   "source": [
    "data_dir = Path(\"/mnt/data/documents/code/ml-projects/ViT-TensorRT/datasets/cat-dog/train\")\n",
    "files = list(data_dir.glob(\"*.jpg\"))\n",
    "\n",
    "# Split into train and valid\n",
    "random.seed(1234)\n",
    "random.shuffle(files)\n",
    "train_files = files[:20_000]\n",
    "valid_files = files[20_000:]\n",
    "\n",
    "# Save training data\n",
    "train_dir = data_dir\n",
    "train_images_dir = train_dir / \"images\"\n",
    "train_labels_dir = train_dir / \"labels\"\n",
    "\n",
    "train_images_dir.mkdir(exist_ok=True, parents=True)\n",
    "train_labels_dir.mkdir(exist_ok=True, parents=True)\n",
    "\n",
    "for file in train_files:\n",
    "    with open(train_labels_dir / file.name, \"w\") as fp:\n",
    "        if \"dog\" in file.stem:\n",
    "            fp.write(\"1\")\n",
    "        elif \"cat\" in file.stem:\n",
    "            fp.write(\"0\")\n",
    "\n",
    "    new_image_file = train_images_dir / file.name\n",
    "    file.rename(new_image_file)\n",
    "\n",
    "\n",
    "# Save validation data\n",
    "valid_dir = data_dir.parent / \"valid\"\n",
    "valid_images_dir = valid_dir / \"images\"\n",
    "valid_labels_dir = valid_dir / \"labels\"\n",
    "\n",
    "valid_images_dir.mkdir(exist_ok=True, parents=True)\n",
    "valid_labels_dir.mkdir(exist_ok=True, parents=True)\n",
    "\n",
    "for file in valid_files:\n",
    "    with open(valid_labels_dir / file.name, \"w\") as fp:\n",
    "        if \"dog\" in file.stem:\n",
    "            fp.write(\"1\")\n",
    "        elif \"cat\" in file.stem:\n",
    "            fp.write(\"0\")\n",
    "\n",
    "    new_image_file = valid_images_dir / file.name\n",
    "    file.rename(new_image_file)"
   ]
  },
  {
   "cell_type": "markdown",
   "metadata": {},
   "source": [
    "Train the model"
   ]
  },
  {
   "cell_type": "code",
   "execution_count": 1,
   "metadata": {},
   "outputs": [],
   "source": [
    "from pathlib import Path\n",
    "\n",
    "from vit_tensorrt import ViT\n",
    "from vit_tensorrt.config import EncoderConfig, TrainConfig, ViTConfig"
   ]
  },
  {
   "cell_type": "code",
   "execution_count": null,
   "metadata": {},
   "outputs": [],
   "source": [
    "encoder_config = EncoderConfig(num_layers=8)\n",
    "config = ViTConfig(image_size=320, num_classes=2, encoder_config=encoder_config)\n",
    "model = ViT(config, device=\"cuda:0\")"
   ]
  },
  {
   "cell_type": "code",
   "execution_count": null,
   "metadata": {},
   "outputs": [],
   "source": [
    "train_config = TrainConfig(\n",
    "    data_path=Path(\"/mnt/data/documents/code/ml-projects/ViT-TensorRT/datasets/cat-dog\"),\n",
    "    batch_size=128,\n",
    "    learning_rate=1e-4\n",
    "    )\n",
    "model.fit(train_config)"
   ]
  },
  {
   "cell_type": "markdown",
   "metadata": {},
   "source": [
    "### Investigate the data loader"
   ]
  },
  {
   "cell_type": "code",
   "execution_count": 1,
   "metadata": {},
   "outputs": [],
   "source": [
    "from pathlib import Path\n",
    "\n",
    "from vit_tensorrt import ViT\n",
    "from vit_tensorrt.config import EncoderConfig, TrainConfig, ViTConfig"
   ]
  },
  {
   "cell_type": "code",
   "execution_count": null,
   "metadata": {},
   "outputs": [],
   "source": [
    "encoder_config = EncoderConfig(num_layers=8)\n",
    "config = ViTConfig(image_size=320, num_classes=2, encoder_config=encoder_config)\n",
    "model = ViT(config, device=\"cuda:0\")\n",
    "\n",
    "train_config = TrainConfig(\n",
    "    data_path=Path(\"/mnt/data/documents/code/ml-projects/ViT-TensorRT/datasets/cat-dog\"),\n",
    "    batch_size=128\n",
    "    )"
   ]
  },
  {
   "cell_type": "code",
   "execution_count": null,
   "metadata": {},
   "outputs": [],
   "source": [
    "train_loader, valid_loader = model._prepare_data(train_config)"
   ]
  },
  {
   "cell_type": "code",
   "execution_count": 4,
   "metadata": {},
   "outputs": [],
   "source": [
    "images: torch.Tensor = None\n",
    "labels: torch.Tensor = None\n",
    "for images, labels in train_loader:\n",
    "    break"
   ]
  },
  {
   "cell_type": "code",
   "execution_count": null,
   "metadata": {},
   "outputs": [],
   "source": [
    "import matplotlib.pyplot as plt\n",
    "index = 10\n",
    "\n",
    "im = images[index].permute(1, 2, 0)\n",
    "cpu_im = im.cpu().numpy()\n",
    "print(labels[index])\n",
    "print(cpu_im.max(), cpu_im.min())\n",
    "plt.imshow(cpu_im)"
   ]
  },
  {
   "cell_type": "code",
   "execution_count": 1,
   "metadata": {},
   "outputs": [],
   "source": [
    "import torch\n",
    "\n",
    "t1 = torch.zeros((3, 10))\n",
    "t2 = torch.randint(0, 10, (1, 10))"
   ]
  },
  {
   "cell_type": "code",
   "execution_count": null,
   "metadata": {},
   "outputs": [],
   "source": [
    "print(t1)\n",
    "print(t2)"
   ]
  },
  {
   "cell_type": "code",
   "execution_count": null,
   "metadata": {},
   "outputs": [],
   "source": [
    "t1+t2"
   ]
  },
  {
   "cell_type": "markdown",
   "metadata": {},
   "source": [
    "### Learning rate scheduler"
   ]
  },
  {
   "cell_type": "code",
   "execution_count": 1,
   "metadata": {},
   "outputs": [],
   "source": [
    "from torch.optim.lr_scheduler import ChainedScheduler, CosineAnnealingLR, LinearLR\n",
    "from torch.optim import Adam"
   ]
  },
  {
   "cell_type": "code",
   "execution_count": null,
   "metadata": {},
   "outputs": [],
   "source": [
    "encoder_config = EncoderConfig(num_layers=8)\n",
    "config = ViTConfig(image_size=320, num_classes=2, encoder_config=encoder_config)\n",
    "model = ViT(config, device=\"cuda:0\")\n",
    "\n",
    "optimiser = Adam(model.parameters(), lr=1e-4)\n",
    "\n",
    "scheduler = ChainedScheduler([LinearLR(optimiser, last_epoch=5)], optimiser)"
   ]
  }
 ],
 "metadata": {
  "kernelspec": {
   "display_name": ".venv",
   "language": "python",
   "name": "python3"
  },
  "language_info": {
   "codemirror_mode": {
    "name": "ipython",
    "version": 3
   },
   "file_extension": ".py",
   "mimetype": "text/x-python",
   "name": "python",
   "nbconvert_exporter": "python",
   "pygments_lexer": "ipython3",
   "version": "3.11.6"
  }
 },
 "nbformat": 4,
 "nbformat_minor": 2
}
