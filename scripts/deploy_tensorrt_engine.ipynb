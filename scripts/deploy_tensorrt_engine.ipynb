{
 "cells": [
  {
   "cell_type": "markdown",
   "metadata": {},
   "source": [
    "## Deploy TensorRT engine\n",
    "A notebook to test that the TensorRT engine can be deployed to a Triton Inference\n",
    "Server. This also tests that inference can be performed."
   ]
  },
  {
   "cell_type": "code",
   "execution_count": 1,
   "metadata": {},
   "outputs": [],
   "source": [
    "import shutil\n",
    "import subprocess\n",
    "from pathlib import Path\n",
    "from tempfile import TemporaryDirectory\n",
    "\n",
    "import numpy as np\n",
    "from tritonclient import http"
   ]
  },
  {
   "cell_type": "code",
   "execution_count": 2,
   "metadata": {},
   "outputs": [],
   "source": [
    "MODEL_PATH = Path(\"\")"
   ]
  },
  {
   "cell_type": "markdown",
   "metadata": {},
   "source": [
    "### Start the triton server"
   ]
  },
  {
   "cell_type": "code",
   "execution_count": 3,
   "metadata": {},
   "outputs": [],
   "source": [
    "temp_dir = TemporaryDirectory()\n",
    "temp_model_dir = Path(temp_dir.name)\n",
    "_ = shutil.copy(MODEL_PATH, temp_model_dir / \"model.plan\")"
   ]
  },
  {
   "cell_type": "code",
   "execution_count": null,
   "metadata": {},
   "outputs": [],
   "source": [
    "subprocess.run([\n",
    "    \"nvidia-docker\",\n",
    "    \"run\",\n",
    "    \"-dit\",\n",
    "    \"--net=host\",\n",
    "    \"--name\",\n",
    "    \"vit-triton\",\n",
    "    \"-v\",\n",
    "    f\"{temp_model_dir}:/models/vit/1\",\n",
    "    \"nvcr.io/nvidia/tritonserver:24.09-py3\",\n",
    "    \"tritonserver\",\n",
    "    \"--model-repository=/models\",\n",
    "    ])"
   ]
  },
  {
   "cell_type": "markdown",
   "metadata": {},
   "source": [
    "### Run inference"
   ]
  },
  {
   "cell_type": "code",
   "execution_count": 5,
   "metadata": {},
   "outputs": [],
   "source": [
    "client = http.InferenceServerClient(\"localhost:8000\")"
   ]
  },
  {
   "cell_type": "code",
   "execution_count": null,
   "metadata": {},
   "outputs": [],
   "source": [
    "# Create input data\n",
    "inputs = [http.InferInput(\"input\", [32, 3, 256, 256], \"FP32\")]\n",
    "inputs[0].set_data_from_numpy(np.random.rand(32, 3, 256, 256).astype(np.float32))\n",
    "\n",
    "# Run inference\n",
    "results = client.infer(\"vit\", inputs)\n",
    "\n",
    "# Get the output\n",
    "output = results.as_numpy(\"output\")\n",
    "\n",
    "print(output.shape)"
   ]
  },
  {
   "cell_type": "markdown",
   "metadata": {},
   "source": [
    "### Clean up"
   ]
  },
  {
   "cell_type": "code",
   "execution_count": null,
   "metadata": {},
   "outputs": [],
   "source": [
    "subprocess.run([\"nvidia-docker\", \"rm\", \"-f\", \"vit-triton\"])\n",
    "_ = temp_dir.cleanup()"
   ]
  },
  {
   "cell_type": "code",
   "execution_count": null,
   "metadata": {},
   "outputs": [],
   "source": []
  }
 ],
 "metadata": {
  "kernelspec": {
   "display_name": ".venv",
   "language": "python",
   "name": "python3"
  },
  "language_info": {
   "codemirror_mode": {
    "name": "ipython",
    "version": 3
   },
   "file_extension": ".py",
   "mimetype": "text/x-python",
   "name": "python",
   "nbconvert_exporter": "python",
   "pygments_lexer": "ipython3",
   "version": "3.11.6"
  }
 },
 "nbformat": 4,
 "nbformat_minor": 2
}
